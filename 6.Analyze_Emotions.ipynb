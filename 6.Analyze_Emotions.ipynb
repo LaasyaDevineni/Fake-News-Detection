{
  "nbformat": 4,
  "nbformat_minor": 0,
  "metadata": {
    "colab": {
      "provenance": []
    },
    "kernelspec": {
      "name": "python3",
      "display_name": "Python 3"
    },
    "language_info": {
      "name": "python"
    }
  },
  "cells": [
    {
      "cell_type": "code",
      "source": [
        "import pandas as pd\n",
        "import nltk\n",
        "from nltk.sentiment.vader import SentimentIntensityAnalyzer\n",
        "\n",
        "# Load the dataset\n",
        "data = pd.read_csv(\"cleaned_dataset.csv\")\n"
      ],
      "metadata": {
        "id": "lDQzhnmzl9ZN"
      },
      "execution_count": 3,
      "outputs": []
    },
    {
      "cell_type": "code",
      "source": [
        "nltk.download('vader_lexicon', quiet=True)"
      ],
      "metadata": {
        "colab": {
          "base_uri": "https://localhost:8080/"
        },
        "id": "QA5pZTiimEsC",
        "outputId": "db7f5f5d-085f-4566-99e7-79453f5d9806"
      },
      "execution_count": 4,
      "outputs": [
        {
          "output_type": "execute_result",
          "data": {
            "text/plain": [
              "True"
            ]
          },
          "metadata": {},
          "execution_count": 4
        }
      ]
    },
    {
      "cell_type": "code",
      "source": [
        "analyzer = SentimentIntensityAnalyzer()"
      ],
      "metadata": {
        "id": "bLtoyb-hmHzH"
      },
      "execution_count": 5,
      "outputs": []
    },
    {
      "cell_type": "code",
      "source": [
        "def analyze_sentiment(text):\n",
        "    if isinstance(text, str):\n",
        "        sentiment_score = analyzer.polarity_scores(text)\n",
        "        # Determine sentiment based on compound score\n",
        "        if sentiment_score[\"compound\"] >= 0.05:\n",
        "            return \"Positive\"\n",
        "        elif sentiment_score[\"compound\"] <= -0.05:\n",
        "            return \"Negative\"\n",
        "        else:\n",
        "            return \"Neutral\"\n",
        "    return \"Neutral\""
      ],
      "metadata": {
        "id": "uMAcDdn_mKkg"
      },
      "execution_count": 6,
      "outputs": []
    },
    {
      "cell_type": "code",
      "source": [
        "data[\"Sentiment\"] = data[\"text\"].apply(analyze_sentiment)\n",
        "\n",
        "# Display the result\n",
        "print(data[['text', 'Sentiment']].head())"
      ],
      "metadata": {
        "colab": {
          "base_uri": "https://localhost:8080/"
        },
        "id": "fiEOcjLDmP6T",
        "outputId": "28871eb2-7650-4fa0-8bf5-9781884b81d2"
      },
      "execution_count": 7,
      "outputs": [
        {
          "output_type": "stream",
          "name": "stdout",
          "text": [
            "                                                text Sentiment\n",
            "0  print they should pay all the back all the mon...  Positive\n",
            "1  why did attorney general loretta lynch plead t...  Negative\n",
            "2  red state  \\nfox news sunday reported this mor...  Positive\n",
            "3  email kayla mueller was a prisoner and torture...  Positive\n",
            "4  email healthcare reform to make america great ...  Positive\n"
          ]
        }
      ]
    }
  ]
}