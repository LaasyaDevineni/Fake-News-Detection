{
  "nbformat": 4,
  "nbformat_minor": 0,
  "metadata": {
    "colab": {
      "provenance": []
    },
    "kernelspec": {
      "name": "python3",
      "display_name": "Python 3"
    },
    "language_info": {
      "name": "python"
    }
  },
  "cells": [
    {
      "cell_type": "code",
      "source": [
        "import pandas as pd\n",
        "from sklearn.feature_extraction.text import TfidfVectorizer\n",
        "from sklearn.model_selection import train_test_split, GridSearchCV\n",
        "from sklearn.linear_model import LogisticRegression\n",
        "from sklearn.metrics import accuracy_score, classification_report\n",
        "from sklearn.pipeline import Pipeline\n",
        "from sklearn.preprocessing import LabelEncoder\n",
        "\n",
        "# Load the dataset\n",
        "data = pd.read_csv(\"cleaned_dataset.csv\")"
      ],
      "metadata": {
        "id": "4phMPqQFo14h"
      },
      "execution_count": 1,
      "outputs": []
    },
    {
      "cell_type": "code",
      "source": [
        "# Handle missing data\n",
        "data = data[[\"text\", \"label\"]].dropna()  # Drop rows with missing values\n",
        "\n",
        "# Encode labels\n",
        "le = LabelEncoder()\n",
        "data[\"label\"] = le.fit_transform(data[\"label\"])\n",
        "\n",
        "# Split data into features and target\n",
        "x = data[\"text\"]\n",
        "y = data[\"label\"]\n",
        "\n",
        "# Train-test split\n",
        "x_train, x_test, y_train, y_test = train_test_split(x, y, test_size=0.2, random_state=42)"
      ],
      "metadata": {
        "id": "ruRbOsdFpBlY"
      },
      "execution_count": 2,
      "outputs": []
    },
    {
      "cell_type": "code",
      "source": [
        "# pipeline\n",
        "pipeline = Pipeline([\n",
        "    ('tfidf', TfidfVectorizer(max_features=5000, stop_words='english')),\n",
        "    ('model', LogisticRegression())\n",
        "])\n",
        "\n",
        "# Hyperparameter tuning using GridSearchCV\n",
        "param_grid = {'model__C': [0.1, 1, 10]}  # Regularization parameter\n",
        "grid_search = GridSearchCV(pipeline, param_grid, scoring='accuracy', cv=5)\n",
        "grid_search.fit(x_train, y_train)\n",
        "\n",
        "best_model = grid_search.best_estimator_\n",
        "\n",
        "# Evaluate\n",
        "y_pred = best_model.predict(x_test)\n",
        "accuracy = accuracy_score(y_test, y_pred)\n",
        "print(f\"Accuracy: {accuracy:.2f}\")\n",
        "\n",
        "print(classification_report(y_test, y_pred, target_names=le.classes_))"
      ],
      "metadata": {
        "colab": {
          "base_uri": "https://localhost:8080/"
        },
        "id": "jRngdTk_pI7i",
        "outputId": "5c56030e-4fcf-423f-d888-b25a054887fd"
      },
      "execution_count": 3,
      "outputs": [
        {
          "output_type": "stream",
          "name": "stdout",
          "text": [
            "Accuracy: 0.77\n",
            "              precision    recall  f1-score   support\n",
            "\n",
            "        Fake       0.80      0.87      0.83       264\n",
            "        Real       0.72      0.60      0.65       144\n",
            "\n",
            "    accuracy                           0.77       408\n",
            "   macro avg       0.76      0.73      0.74       408\n",
            "weighted avg       0.77      0.77      0.77       408\n",
            "\n"
          ]
        }
      ]
    },
    {
      "cell_type": "code",
      "source": [
        "# Prediction function\n",
        "def fakenewsprediction(text):\n",
        "    input_data = [text]\n",
        "    prediction = best_model.predict(input_data)\n",
        "    return \"Real News\" if prediction[0] == 0 else \"Fake News\"\n",
        "\n",
        "article_input = \"Scientists have discovered a new species of frog in the Amazon rainforest, which could help in understanding climate change.\"\n",
        "prediction = fakenewsprediction(article_input)\n",
        "print(f\"Prediction: {prediction}\")"
      ],
      "metadata": {
        "colab": {
          "base_uri": "https://localhost:8080/"
        },
        "id": "senyiUmVpWvV",
        "outputId": "453a8301-6445-43af-e148-d8fddaa52368"
      },
      "execution_count": 4,
      "outputs": [
        {
          "output_type": "stream",
          "name": "stdout",
          "text": [
            "Prediction: Real News\n"
          ]
        }
      ]
    }
  ]
}