{
  "nbformat": 4,
  "nbformat_minor": 0,
  "metadata": {
    "colab": {
      "provenance": []
    },
    "kernelspec": {
      "name": "python3",
      "display_name": "Python 3"
    },
    "language_info": {
      "name": "python"
    }
  },
  "cells": [
    {
      "cell_type": "code",
      "execution_count": 8,
      "metadata": {
        "id": "K6M7P-f4kaSq"
      },
      "outputs": [],
      "source": [
        "import pandas as pd\n",
        "import re\n",
        "from scipy.stats import chi2_contingency\n",
        "\n",
        "# Load the dataset\n",
        "data = pd.read_csv(\"cleaned_dataset.csv\")"
      ]
    },
    {
      "cell_type": "code",
      "source": [
        "# Function to detect sensationalism in text\n",
        "def detect_sensationalism(text):\n",
        "    # Check if text is a string\n",
        "    if isinstance(text, str):\n",
        "        sensational_keywords = [\"shocking\", \"outrageous\", \"unbelievable\", \"mind-blowing\", \"explosive\"]\n",
        "        # Compile the regex for all keywords\n",
        "        pattern = re.compile(r'\\b(?:' + '|'.join(sensational_keywords) + r')\\b', re.IGNORECASE)\n",
        "        return bool(pattern.search(text))\n",
        "    return False\n"
      ],
      "metadata": {
        "id": "zwQU2_BglbW4"
      },
      "execution_count": 10,
      "outputs": []
    },
    {
      "cell_type": "code",
      "source": [
        "# Apply the sensationalism detection function to the text column\n",
        "data[\"Sensationalism\"] = data[\"text\"].apply(detect_sensationalism)\n",
        "\n",
        "# Create a contingency table\n",
        "contingency_table = pd.crosstab(data[\"Sensationalism\"], data[\"label\"])\n",
        "print(contingency_table)"
      ],
      "metadata": {
        "colab": {
          "base_uri": "https://localhost:8080/"
        },
        "id": "Y966tZdhlfgb",
        "outputId": "3c610c6d-894c-4e77-e1a2-9030a12931c0"
      },
      "execution_count": 11,
      "outputs": [
        {
          "output_type": "stream",
          "name": "stdout",
          "text": [
            "label           Fake  Real\n",
            "Sensationalism            \n",
            "False           1208   770\n",
            "True              76    31\n"
          ]
        }
      ]
    },
    {
      "cell_type": "code",
      "source": [
        "# Perform Chi-squared test\n",
        "chi2, p, _, _ = chi2_contingency(contingency_table)\n",
        "print(f\"Chi-squared statistic: {chi2:.4f}\")\n",
        "print(f\"P-value: {p:.4f}\")\n",
        "\n",
        "# Significance level\n",
        "alpha = 0.05\n",
        "if p < alpha:\n",
        "    print(\"There is a significant association between sensationalism and credibility.\")\n",
        "else:\n",
        "    print(\"There is no significant association between sensationalism and credibility.\")\n"
      ],
      "metadata": {
        "id": "txqXSxNzliyR",
        "outputId": "66a68259-98cf-419f-fa6f-90af30a5f014",
        "colab": {
          "base_uri": "https://localhost:8080/"
        }
      },
      "execution_count": 12,
      "outputs": [
        {
          "output_type": "stream",
          "name": "stdout",
          "text": [
            "Chi-squared statistic: 3.8427\n",
            "P-value: 0.0500\n",
            "There is a significant association between sensationalism and credibility.\n"
          ]
        }
      ]
    }
  ]
}